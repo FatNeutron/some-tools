{
 "cells": [
  {
   "cell_type": "code",
   "execution_count": 15,
   "id": "ad171227-d705-4a7a-9cbd-37e6535dad5e",
   "metadata": {},
   "outputs": [],
   "source": [
    "import sympy as smp"
   ]
  },
  {
   "cell_type": "markdown",
   "id": "ee72b1eb-1250-4cd6-becd-605a88fd3dfd",
   "metadata": {},
   "source": [
    "# Define variables\n",
    "\n",
    "first you need to define the variables using this syntax,\n",
    "\n",
    "    x = smp.symbols('x')\n",
    "\n",
    "this if for x."
   ]
  },
  {
   "cell_type": "code",
   "execution_count": 16,
   "id": "08293c48-027c-42ab-99f7-39817d9b134a",
   "metadata": {},
   "outputs": [],
   "source": [
    "x = smp.symbols('x')"
   ]
  },
  {
   "cell_type": "markdown",
   "id": "186cfbb1-0077-4d20-bffd-21c8f32e8c1b",
   "metadata": {},
   "source": [
    "# Define functions\n",
    "\n",
    "use the **smp** to define func,\n",
    "\n",
    "like this,\n",
    "\n",
    "    smp.sin(x)\n",
    "    smp.acos(x)\n",
    "\n",
    "You can also store the expression in another variable, like y,\n",
    "\n",
    "    y = 3*smp.log(x)"
   ]
  },
  {
   "cell_type": "code",
   "execution_count": 20,
   "id": "0964b7a8-187d-4c3b-b149-7e941701b3c1",
   "metadata": {},
   "outputs": [
    {
     "data": {
      "text/latex": [
       "$\\displaystyle 3 \\log{\\left(x \\right)}$"
      ],
      "text/plain": [
       "3*log(x)"
      ]
     },
     "execution_count": 20,
     "metadata": {},
     "output_type": "execute_result"
    }
   ],
   "source": [
    "y = 3*smp.log(x)\n",
    "y"
   ]
  },
  {
   "cell_type": "code",
   "execution_count": 22,
   "id": "91e3a996-2e55-4c89-b52e-2cf3eb077885",
   "metadata": {},
   "outputs": [
    {
     "data": {
      "text/latex": [
       "$\\displaystyle 81 \\log{\\left(x \\right)}^{4}$"
      ],
      "text/plain": [
       "81*log(x)**4"
      ]
     },
     "execution_count": 22,
     "metadata": {},
     "output_type": "execute_result"
    }
   ],
   "source": [
    "z = y**4\n",
    "z"
   ]
  }
 ],
 "metadata": {
  "kernelspec": {
   "display_name": "Python 3 (ipykernel)",
   "language": "python",
   "name": "python3"
  },
  "language_info": {
   "codemirror_mode": {
    "name": "ipython",
    "version": 3
   },
   "file_extension": ".py",
   "mimetype": "text/x-python",
   "name": "python",
   "nbconvert_exporter": "python",
   "pygments_lexer": "ipython3",
   "version": "3.13.3"
  }
 },
 "nbformat": 4,
 "nbformat_minor": 5
}
