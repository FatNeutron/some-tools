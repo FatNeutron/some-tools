{
 "cells": [
  {
   "cell_type": "code",
   "execution_count": 15,
   "id": "ad171227-d705-4a7a-9cbd-37e6535dad5e",
   "metadata": {},
   "outputs": [],
   "source": [
    "import sympy as smp"
   ]
  },
  {
   "cell_type": "markdown",
   "id": "ee72b1eb-1250-4cd6-becd-605a88fd3dfd",
   "metadata": {
    "editable": true,
    "slideshow": {
     "slide_type": ""
    },
    "tags": []
   },
   "source": [
    "# Define variables\n",
    "\n",
    "first you need to define the variables using this syntax,\n",
    "\n",
    "    x = smp.symbols('x')\n",
    "\n",
    "And if you know any info of x like real, positive, etc. its better to just define it like that. For example if x is real & negative,\n",
    "\n",
    "    x = smp.symbol('x', real=True, negative=True)\n",
    "\n",
    "\n",
    "\n",
    "\n",
    "> remember that **smp.oo is +$\\infty$**  and  **smp.-oo is -$\\infty$**\n",
    "\n"
   ]
  },
  {
   "cell_type": "code",
   "execution_count": 16,
   "id": "08293c48-027c-42ab-99f7-39817d9b134a",
   "metadata": {},
   "outputs": [],
   "source": [
    "x = smp.symbols('x')"
   ]
  },
  {
   "cell_type": "markdown",
   "id": "186cfbb1-0077-4d20-bffd-21c8f32e8c1b",
   "metadata": {},
   "source": [
    "# Define functions\n",
    "\n",
    "use the **smp** to define func,\n",
    "\n",
    "like this,\n",
    "\n",
    "    smp.sin(x)\n",
    "    smp.acos(x)\n",
    "\n",
    "You can also store the expression in another variable, like y,\n",
    "\n",
    "    y = 3*smp.log(x)"
   ]
  },
  {
   "cell_type": "code",
   "execution_count": 25,
   "id": "0964b7a8-187d-4c3b-b149-7e941701b3c1",
   "metadata": {},
   "outputs": [
    {
     "data": {
      "text/latex": [
       "$\\displaystyle 3 \\log{\\left(x \\right)}$"
      ],
      "text/plain": [
       "3*log(x)"
      ]
     },
     "execution_count": 25,
     "metadata": {},
     "output_type": "execute_result"
    }
   ],
   "source": [
    "y = 3*smp.log(x)\n",
    "y"
   ]
  },
  {
   "cell_type": "code",
   "execution_count": 26,
   "id": "91e3a996-2e55-4c89-b52e-2cf3eb077885",
   "metadata": {},
   "outputs": [
    {
     "data": {
      "text/latex": [
       "$\\displaystyle 81 \\log{\\left(x \\right)}^{4}$"
      ],
      "text/plain": [
       "81*log(x)**4"
      ]
     },
     "execution_count": 26,
     "metadata": {},
     "output_type": "execute_result"
    }
   ],
   "source": [
    "z = y**4\n",
    "z"
   ]
  },
  {
   "cell_type": "markdown",
   "id": "805228d8-5a1a-4574-8187-b006e42704b5",
   "metadata": {},
   "source": [
    "You can factorize or expand or solve the defined expression. For example,\n",
    "\n",
    "    z.factor()\n",
    "    z.expand()\n",
    "    smp.solve(z, x)\n",
    "\n",
    "> smp.solve(z, x) will take the expression z i.e. z(x) and solve for x such that z(x) = 0."
   ]
  },
  {
   "cell_type": "code",
   "execution_count": 30,
   "id": "7dd33fa1-472c-4d74-97f2-a0d48e7dc380",
   "metadata": {},
   "outputs": [
    {
     "data": {
      "text/plain": [
       "[1]"
      ]
     },
     "execution_count": 30,
     "metadata": {},
     "output_type": "execute_result"
    }
   ],
   "source": [
    "smp.solve(z,x)"
   ]
  },
  {
   "cell_type": "code",
   "execution_count": 37,
   "id": "519e63c2-1cd0-43a0-817f-2798bd663b86",
   "metadata": {},
   "outputs": [
    {
     "data": {
      "text/plain": [
       "[-2 + sqrt(5), -sqrt(5) - 2]"
      ]
     },
     "execution_count": 37,
     "metadata": {},
     "output_type": "execute_result"
    }
   ],
   "source": [
    "z = x**2 + 4*x -1\n",
    "smp.solve(z, x)"
   ]
  },
  {
   "cell_type": "markdown",
   "id": "500d8078-071b-4b19-b80a-77f9e9c54845",
   "metadata": {},
   "source": [
    "## Derivatives \n",
    "\n",
    "Suppose we want to take derivatives of this expression wrt x,\n",
    "\n",
    "$$\n",
    "\\frac{d}{dx} \\left( \\left( \\frac{1 + \\sin x}{1 - \\cos x} \\right)^2 \\right)\n",
    "$$\n",
    "\n",
    "\n",
    "then define this function and solve it like this"
   ]
  },
  {
   "cell_type": "code",
   "execution_count": 39,
   "id": "fccbe222-b157-4fbe-b9e0-6080cc5ef742",
   "metadata": {},
   "outputs": [
    {
     "data": {
      "text/latex": [
       "$\\displaystyle \\frac{\\left(\\sin{\\left(x \\right)} + 1\\right)^{2}}{\\left(1 - \\cos{\\left(x \\right)}\\right)^{2}}$"
      ],
      "text/plain": [
       "(sin(x) + 1)**2/(1 - cos(x))**2"
      ]
     },
     "execution_count": 39,
     "metadata": {},
     "output_type": "execute_result"
    }
   ],
   "source": [
    "y = ((1 + smp.sin(x)) / (1 - smp.cos(x)))**2\n",
    "y"
   ]
  },
  {
   "cell_type": "code",
   "execution_count": 41,
   "id": "b8185764-20dc-4b1c-9b3d-048722256c03",
   "metadata": {},
   "outputs": [
    {
     "data": {
      "text/latex": [
       "$\\displaystyle \\frac{2 \\left(\\sin{\\left(x \\right)} + 1\\right) \\cos{\\left(x \\right)}}{\\left(1 - \\cos{\\left(x \\right)}\\right)^{2}} - \\frac{2 \\left(\\sin{\\left(x \\right)} + 1\\right)^{2} \\sin{\\left(x \\right)}}{\\left(1 - \\cos{\\left(x \\right)}\\right)^{3}}$"
      ],
      "text/plain": [
       "2*(sin(x) + 1)*cos(x)/(1 - cos(x))**2 - 2*(sin(x) + 1)**2*sin(x)/(1 - cos(x))**3"
      ]
     },
     "execution_count": 41,
     "metadata": {},
     "output_type": "execute_result"
    }
   ],
   "source": [
    "smp.diff(y , x)"
   ]
  },
  {
   "cell_type": "markdown",
   "id": "bf445bff-074e-4e02-b520-2f10e77277b0",
   "metadata": {},
   "source": [
    "Ex. \n",
    "$$\n",
    "\\frac{d}{dx} \\left( \\log_5(x) \\right)^{\\frac{x}{2}}\n",
    "$$\n"
   ]
  },
  {
   "cell_type": "code",
   "execution_count": 46,
   "id": "235d82f3-51b5-4843-98d4-840339dcfc12",
   "metadata": {},
   "outputs": [
    {
     "data": {
      "text/latex": [
       "$\\displaystyle \\left(\\frac{\\log{\\left(x \\right)}}{\\log{\\left(5 \\right)}}\\right)^{\\frac{x}{2}} \\left(\\frac{\\log{\\left(\\frac{\\log{\\left(x \\right)}}{\\log{\\left(5 \\right)}} \\right)}}{2} + \\frac{1}{2 \\log{\\left(x \\right)}}\\right)$"
      ],
      "text/plain": [
       "(log(x)/log(5))**(x/2)*(log(log(x)/log(5))/2 + 1/(2*log(x)))"
      ]
     },
     "execution_count": 46,
     "metadata": {},
     "output_type": "execute_result"
    }
   ],
   "source": [
    "smp.diff((smp.log(x, 5))**(x / 2), x)"
   ]
  },
  {
   "cell_type": "markdown",
   "id": "c13aaf33-14f9-47e3-bd98-2fc1cf7c5ddb",
   "metadata": {},
   "source": [
    "## Integration\n",
    "\n",
    "For integration you follow the same steps,\n",
    "\n",
    "Ex. \n",
    "\n",
    "$$\n",
    "\\int 5 \\sec(3x^2) \\tan(3x) \\, dx\n",
    "$$\n",
    "\n",
    "\n",
    "> be patient while its solving integrations for you and also remember to + C at the end"
   ]
  },
  {
   "cell_type": "code",
   "execution_count": 55,
   "id": "32d1a710-9641-4f74-936d-2195033634a8",
   "metadata": {},
   "outputs": [
    {
     "data": {
      "text/latex": [
       "$\\displaystyle \\frac{5}{3 \\cos{\\left(3 x \\right)}}$"
      ],
      "text/plain": [
       "5/(3*cos(3*x))"
      ]
     },
     "execution_count": 55,
     "metadata": {},
     "output_type": "execute_result"
    }
   ],
   "source": [
    "smp.integrate(5*smp.sec(3*x)*smp.tan(3*x), x)"
   ]
  },
  {
   "cell_type": "markdown",
   "id": "e94bd12b-7882-47cb-8dd9-77a621b38b70",
   "metadata": {},
   "source": [
    "Ex,\n",
    "\n",
    "$$\n",
    "\\int \\left( \\frac{2}{\\sqrt{1 - x^2}} - \\frac{1}{x^{1/4}} \\right) dx\n",
    "$$\n"
   ]
  },
  {
   "cell_type": "code",
   "execution_count": 58,
   "id": "42694560-a0af-4e04-8a8a-f02c533eb657",
   "metadata": {},
   "outputs": [
    {
     "data": {
      "text/latex": [
       "$\\displaystyle - \\frac{4 x^{\\frac{3}{4}}}{3} + 2 \\operatorname{asin}{\\left(x \\right)}$"
      ],
      "text/plain": [
       "-4*x**(3/4)/3 + 2*asin(x)"
      ]
     },
     "execution_count": 58,
     "metadata": {},
     "output_type": "execute_result"
    }
   ],
   "source": [
    "smp.integrate(2/smp.sqrt(1 - x**2) - 1/x**smp.Rational(1,4), x)"
   ]
  },
  {
   "cell_type": "markdown",
   "id": "158ea82f-9654-4681-99f5-435715e73018",
   "metadata": {},
   "source": [
    "Ex,\n",
    "\n",
    "$$\n",
    "\\int_0^{\\ln(4)} \\frac{e^x}{\\sqrt{e^{2x} + 9}} \\, dx\n",
    "$$\n"
   ]
  },
  {
   "cell_type": "code",
   "execution_count": 61,
   "id": "e769c0ad-d5ec-4b46-b9b6-f67a3a86d8ad",
   "metadata": {},
   "outputs": [
    {
     "data": {
      "text/latex": [
       "$\\displaystyle - \\operatorname{asinh}{\\left(\\frac{1}{3} \\right)} + \\operatorname{asinh}{\\left(\\frac{4}{3} \\right)}$"
      ],
      "text/plain": [
       "-asinh(1/3) + asinh(4/3)"
      ]
     },
     "execution_count": 61,
     "metadata": {},
     "output_type": "execute_result"
    }
   ],
   "source": [
    "smp.integrate(smp.exp(x) / smp.sqrt(smp.exp(2*x) + 9), (x, 0, smp.log(4)))"
   ]
  },
  {
   "cell_type": "markdown",
   "id": "465b0733-2503-4b9b-b40b-687067532d56",
   "metadata": {},
   "source": [
    "Ex,\n",
    "\n",
    "$$\n",
    "\\int_0^{t} x^{10} e^x \\, dx\n",
    "$$\n"
   ]
  },
  {
   "cell_type": "code",
   "execution_count": 65,
   "id": "7453c099-af51-4e7a-af7b-f872e987defe",
   "metadata": {},
   "outputs": [
    {
     "data": {
      "text/latex": [
       "$\\displaystyle \\left(t^{10} - 10 t^{9} + 90 t^{8} - 720 t^{7} + 5040 t^{6} - 30240 t^{5} + 151200 t^{4} - 604800 t^{3} + 1814400 t^{2} - 3628800 t + 3628800\\right) e^{t} - 3628800$"
      ],
      "text/plain": [
       "(t**10 - 10*t**9 + 90*t**8 - 720*t**7 + 5040*t**6 - 30240*t**5 + 151200*t**4 - 604800*t**3 + 1814400*t**2 - 3628800*t + 3628800)*exp(t) - 3628800"
      ]
     },
     "execution_count": 65,
     "metadata": {},
     "output_type": "execute_result"
    }
   ],
   "source": [
    "t = smp.symbols('t')\n",
    "\n",
    "smp.integrate(x**10 * smp.exp(x), (x, 0, t))"
   ]
  }
 ],
 "metadata": {
  "kernelspec": {
   "display_name": "Python 3 (ipykernel)",
   "language": "python",
   "name": "python3"
  },
  "language_info": {
   "codemirror_mode": {
    "name": "ipython",
    "version": 3
   },
   "file_extension": ".py",
   "mimetype": "text/x-python",
   "name": "python",
   "nbconvert_exporter": "python",
   "pygments_lexer": "ipython3",
   "version": "3.13.3"
  }
 },
 "nbformat": 4,
 "nbformat_minor": 5
}
